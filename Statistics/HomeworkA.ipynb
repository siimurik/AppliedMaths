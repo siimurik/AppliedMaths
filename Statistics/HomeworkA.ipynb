{
 "cells": [
  {
   "attachments": {},
   "cell_type": "markdown",
   "metadata": {},
   "source": [
    "## Friedmann test\n",
    "Four experts (A, B, C and D) assessed the new building in 10-points\n",
    "system. Six properties were evaluated on this building. The results were as\n",
    "follows\n",
    "$$\\begin{bmatrix}  \n",
    "Property & ExpertA & ExpertB & ExpertC & Expert D \\\\\n",
    "1 & 8  & 9  & 7  & 8 \\\\\n",
    "2 & 6  & 5  & 9  & 7 \\\\\n",
    "3 & 10 & 7  & 7  & 8 \\\\\n",
    "4 & 9  & 6  & 8  & 6 \\\\\n",
    "5 & 9  & 10 & 10 & 7 \\\\\n",
    "6 & 9  & 8  & 6  & 8 \n",
    "\\end{bmatrix}$$\n",
    "Can you reject the hypothesis that experts assessed the building equally.\n",
    "Significance level is 0.05."
   ]
  },
  {
   "cell_type": "code",
   "execution_count": 2,
   "metadata": {},
   "outputs": [
    {
     "name": "stdout",
     "output_type": "stream",
     "text": [
      "FriedmanchisquareResult(statistic=4.3076923076923075, pvalue=0.5060180383510067)\n"
     ]
    }
   ],
   "source": [
    "# Import the required libraries\n",
    "from scipy import stats\n",
    "\n",
    "# Create a matrix containing the ratings from the experts\n",
    "ratings = [[8, 9, 7, 8],\n",
    "           [6, 5, 9, 7],\n",
    "           [10, 7, 7, 8],\n",
    "           [9, 6, 8, 6],\n",
    "           [9, 10, 10, 7],\n",
    "           [9, 8, 6, 8]]\n",
    "\n",
    "# Perform the Friedman test\n",
    "result = stats.friedmanchisquare(*ratings)\n",
    "\n",
    "# Print the result\n",
    "print(result)\n"
   ]
  },
  {
   "attachments": {},
   "cell_type": "markdown",
   "metadata": {},
   "source": [
    "## Likelihood ratio (LR) criterion \n",
    "Let us have sample which elements $X_i$ have binomial distribution $B(10, Y )$.\n",
    "Let prior distribution of $Y$ be beta distribution with parameters $\\alpha = 1.5$ and\n",
    "$ \\beta = 1.5$. Let us have a pair of hypotheses\n",
    "$$ \\begin{cases}\n",
    "    H_0: y > 0.5 \\\\\n",
    "    H1 : y \\leq 0.5.\n",
    "\\end{cases}\n",
    "$$\n",
    "If likelihood ratio $LR > 5$ then we prove H1. In the other case we have to\n",
    "stay on H0. Which decision you make if sample realization\n",
    "$x = (4, 6, 3, 2, 7, 1, 8)^{T}$\n"
   ]
  },
  {
   "cell_type": "code",
   "execution_count": 1,
   "metadata": {},
   "outputs": [
    {
     "name": "stdout",
     "output_type": "stream",
     "text": [
      "4.782834528846472\n"
     ]
    }
   ],
   "source": [
    "# Import the required libraries\n",
    "import numpy as np\n",
    "from scipy import integrate, stats\n",
    "\n",
    "# Define the sample\n",
    "x = np.array([4, 6, 3, 2, 7, 1, 8])\n",
    "\n",
    "# Define the prior parameters\n",
    "alpha = 1.5\n",
    "beta = 1.5\n",
    "\n",
    "# Define a function that calculates the likelihood of the data\n",
    "# given a probability of success (m)\n",
    "def likelihood(m):\n",
    "    # If m is greater than 0, calculate the likelihood using\n",
    "    # the beta and binomial distributions\n",
    "    if m > 0:\n",
    "        likelihood = stats.beta.pdf(m, alpha, beta) * np.prod(stats.binom.pmf(x, 10, m))\n",
    "    # If m is less than or equal to 0, the likelihood is 0\n",
    "    else:\n",
    "        likelihood = 0\n",
    "    return likelihood\n",
    "\n",
    "# Use the integrate function to calculate the integral of the likelihood\n",
    "# function over the range 0 to 0.5 for the first hypothesis\n",
    "int1, err1 = integrate.quad(likelihood, 0, 0.5)\n",
    "\n",
    "# Use the integrate function to calculate the integral of the likelihood\n",
    "# function over the range 0.5 to 1 for the second hypothesis\n",
    "int2, err2 = integrate.quad(likelihood, 0.5, 1)\n",
    "\n",
    "# Calculate the likelihood ratio as the ratio of the two integrals\n",
    "lr = int1 / int2\n",
    "\n",
    "# Print the result\n",
    "print(lr)\n"
   ]
  },
  {
   "cell_type": "code",
   "execution_count": null,
   "metadata": {},
   "outputs": [],
   "source": []
  }
 ],
 "metadata": {
  "kernelspec": {
   "display_name": "Python 3",
   "language": "python",
   "name": "python3"
  },
  "language_info": {
   "codemirror_mode": {
    "name": "ipython",
    "version": 3
   },
   "file_extension": ".py",
   "mimetype": "text/x-python",
   "name": "python",
   "nbconvert_exporter": "python",
   "pygments_lexer": "ipython3",
   "version": "3.11.0"
  },
  "orig_nbformat": 4,
  "vscode": {
   "interpreter": {
    "hash": "ead1b95f633dc9c51826328e1846203f51a198c6fb5f2884a80417ba131d4e82"
   }
  }
 },
 "nbformat": 4,
 "nbformat_minor": 2
}
