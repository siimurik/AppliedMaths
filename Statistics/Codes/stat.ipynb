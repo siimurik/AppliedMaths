{
 "cells": [
  {
   "cell_type": "code",
   "execution_count": 34,
   "metadata": {},
   "outputs": [],
   "source": [
    "import numpy as np\n",
    "import sympy as sy\n",
    "import scipy as sp\n",
    "from scipy import integrate\n",
    "#from scipy.special import erfinv"
   ]
  },
  {
   "cell_type": "code",
   "execution_count": 35,
   "metadata": {},
   "outputs": [
    {
     "data": {
      "text/latex": [
       "$\\displaystyle \\lambda$"
      ],
      "text/plain": [
       "lambda"
      ]
     },
     "execution_count": 35,
     "metadata": {},
     "output_type": "execute_result"
    }
   ],
   "source": [
    "x, pi, tau, i, omega, lmbda,t, sigma, mu, u, a, k = sy.symbols('x pi tau i omega lambda t sigma mu u a k')\n",
    "i = sy.sqrt(-1)\n",
    "lmbda"
   ]
  },
  {
   "cell_type": "code",
   "execution_count": 36,
   "metadata": {},
   "outputs": [
    {
     "name": "stdout",
     "output_type": "stream",
     "text": [
      "⎛     2⎞  -ⅈ⋅ω⋅τ\n",
      "⎝1 - τ ⎠⋅ℯ      \n",
      "────────────────\n",
      "      2⋅π       \n"
     ]
    },
    {
     "data": {
      "text/latex": [
       "$\\displaystyle \\begin{cases} \\frac{\\left(- \\frac{i \\omega^{2} \\tau^{2}}{2} + \\frac{i \\omega^{2}}{2} - \\omega \\tau + i\\right) e^{- i \\omega \\tau}}{\\pi \\omega^{3}} & \\text{for}\\: \\omega > 0 \\vee \\omega < 0 \\\\\\frac{\\tau \\left(3 - \\tau^{2}\\right)}{6 \\pi} & \\text{otherwise} \\end{cases}$"
      ],
      "text/plain": [
       "Piecewise(((-I*omega**2*tau**2/2 + I*omega**2/2 - omega*tau + I)*exp(-I*omega*tau)/(pi*omega**3), (omega > 0) | (omega < 0)), (tau*(3 - tau**2)/(6*pi), True))"
      ]
     },
     "execution_count": 36,
     "metadata": {},
     "output_type": "execute_result"
    }
   ],
   "source": [
    "f = 1/(2*sy.pi) * (1-tau**2) * sy.exp(-i*omega*tau)\n",
    "sy.pprint(f)\n",
    "sy.simplify(sy.integrate(f, (tau)))"
   ]
  },
  {
   "cell_type": "code",
   "execution_count": 37,
   "metadata": {},
   "outputs": [
    {
     "data": {
      "text/plain": [
       "[]"
      ]
     },
     "execution_count": 37,
     "metadata": {},
     "output_type": "execute_result"
    }
   ],
   "source": [
    "f_exp = lmbda*sy.exp(-lmbda*t)\n",
    "sy.solve(sy.integrate(f_exp, (t, 0, t))==0.95, t)"
   ]
  },
  {
   "cell_type": "code",
   "execution_count": 38,
   "metadata": {},
   "outputs": [
    {
     "data": {
      "text/latex": [
       "$\\displaystyle - e^{- t}$"
      ],
      "text/plain": [
       "-exp(-t)"
      ]
     },
     "execution_count": 38,
     "metadata": {},
     "output_type": "execute_result"
    }
   ],
   "source": [
    "sy.diff(sy.exp(-t))"
   ]
  },
  {
   "cell_type": "code",
   "execution_count": 39,
   "metadata": {},
   "outputs": [
    {
     "data": {
      "text/latex": [
       "$\\displaystyle \\frac{\\left(t + \\tau + 1\\right) e^{- \\tau}}{t + 1}$"
      ],
      "text/plain": [
       "(t + tau + 1)*exp(-tau)/(t + 1)"
      ]
     },
     "execution_count": 39,
     "metadata": {},
     "output_type": "execute_result"
    }
   ],
   "source": [
    "sy.simplify( (sy.integrate(x*sy.exp(-x), (x, t+tau, sy.oo)))/ \n",
    "             (sy.integrate(x*sy.exp(-x), (x, t, sy.oo))) )"
   ]
  },
  {
   "cell_type": "code",
   "execution_count": 40,
   "metadata": {},
   "outputs": [
    {
     "name": "stdout",
     "output_type": "stream",
     "text": [
      "2.82842712474619\n"
     ]
    },
    {
     "data": {
      "text/plain": [
       "0.9976611325094764"
      ]
     },
     "execution_count": 40,
     "metadata": {},
     "output_type": "execute_result"
    }
   ],
   "source": [
    "def Phi(x):\n",
    "    # Returns the Laplace error function\n",
    "    # Also: Phi(x) = 1/2*erf(x/sqrt(2))\n",
    "    return sum([\n",
    "            x/(np.sqrt(2*np.pi)) * \\\n",
    "                (-x**2/2)**k/((2*k+1)*np.math.factorial(k))\n",
    "            for k in range(0, 100)\n",
    "    ])\n",
    "\n",
    "x_val = 4/(np.sqrt(2))\n",
    "print(x_val)\n",
    "0.5 + Phi(x_val)"
   ]
  },
  {
   "cell_type": "code",
   "execution_count": 41,
   "metadata": {},
   "outputs": [
    {
     "data": {
      "text/latex": [
       "$\\displaystyle \\begin{cases} 0.353553390593274 \\sqrt{2} \\left(\\operatorname{erf}{\\left(\\frac{1.4142135623731}{\\sqrt{t}} \\right)} + 1\\right) & \\text{for}\\: \\left(\\left|{\\arg{\\left(t \\right)}}\\right| \\leq \\frac{\\pi}{2} \\wedge \\left|{2 \\arg{\\left(t \\right)} - 2 \\pi}\\right| < \\pi\\right) \\vee \\left|{\\arg{\\left(t \\right)}}\\right| < \\frac{\\pi}{2} \\\\\\frac{\\sqrt{2} \\int\\limits_{-\\infty}^{4} e^{- \\frac{0.125 \\omega^{2}}{t}}\\, d\\omega}{4 \\sqrt{\\pi} \\sqrt{t}} & \\text{otherwise} \\end{cases}$"
      ],
      "text/plain": [
       "Piecewise((0.353553390593274*sqrt(2)*(erf(1.4142135623731/sqrt(t)) + 1), (Abs(arg(t)) < pi/2) | ((Abs(arg(t)) <= pi/2) & (Abs(2*arg(t) - 2*pi) < pi))), (sqrt(2)*Integral(exp(-0.125*omega**2/t), (omega, -oo, 4))/(4*sqrt(pi)*sqrt(t)), True))"
      ]
     },
     "execution_count": 41,
     "metadata": {},
     "output_type": "execute_result"
    }
   ],
   "source": [
    "\n",
    "sy.simplify( sy.integrate(1/(2*sy.sqrt(t)*sy.sqrt(2*sy.pi))*\n",
    "                    sy.exp(-1/2*( (omega - 0)/(2*sy.sqrt(t)) )**2), (omega, -sy.oo, 4) )  )"
   ]
  },
  {
   "cell_type": "code",
   "execution_count": 42,
   "metadata": {},
   "outputs": [],
   "source": [
    "#sy.simplify(sy.integrate(1/(sigma*sy.sqrt(2*sy.pi))*sy.exp( -(omega - mu)**2/(2*sigma**2) ), omega)) "
   ]
  },
  {
   "cell_type": "code",
   "execution_count": 43,
   "metadata": {},
   "outputs": [
    {
     "name": "stdout",
     "output_type": "stream",
     "text": [
      "λ = 9.972237487841358\n"
     ]
    },
    {
     "data": {
      "text/plain": [
       "0.7941804842529419"
      ]
     },
     "execution_count": 43,
     "metadata": {},
     "output_type": "execute_result"
    }
   ],
   "source": [
    "def exp_sum(landa):\n",
    "    return sum([\n",
    "            landa**k/(np.math.factorial(k))*np.exp(-landa)\n",
    "            for k in range(0, 12+1)\n",
    "    ])\n",
    "landa = sp.integrate.quad(lambda t: np.exp(0.2*t), 7, 9)\n",
    "print(\"λ =\", landa[0])\n",
    "exp_sum(landa[0])"
   ]
  },
  {
   "cell_type": "code",
   "execution_count": 44,
   "metadata": {},
   "outputs": [
    {
     "name": "stdout",
     "output_type": "stream",
     "text": [
      "0 4.6678005065678247e-05\n",
      "1 0.0004654841519736054\n",
      "2 0.0023209592551536157\n",
      "3 0.0077150522973317495\n",
      "4 0.019234083435027062\n",
      "5 0.038361369575009074\n",
      "6 0.06375811462680707\n",
      "7 0.09083015154793311\n",
      "8 0.1132224802865763\n",
      "9 0.1254534958200195\n",
      "10 0.12510520539971476\n",
      "11 0.11341625629192077\n",
      "12 0.09425115356040964\n"
     ]
    }
   ],
   "source": [
    "for n in range(12+1):\n",
    "    print(n, landa[0]**n/(np.math.factorial(n))*np.exp(-landa[0]))"
   ]
  },
  {
   "cell_type": "code",
   "execution_count": 45,
   "metadata": {},
   "outputs": [
    {
     "name": "stdout",
     "output_type": "stream",
     "text": [
      "                                    2\n",
      "                    ⎛      3      3⎞ \n",
      "0.888888888888889⋅u⋅⎝0.75⋅t ⋅u - t ⎠ \n"
     ]
    },
    {
     "data": {
      "text/latex": [
       "$\\displaystyle 0.222222222222222 t^{6}$"
      ],
      "text/plain": [
       "0.222222222222222*t**6"
      ]
     },
     "execution_count": 45,
     "metadata": {},
     "output_type": "execute_result"
    }
   ],
   "source": [
    "x_EX_f = ( (t**3*u+a) - (4/3*t**3+a) )**2*u/2\n",
    "sy.pprint(x_EX_f)\n",
    "sy.integrate(x_EX_f, (u, 0, 2)) "
   ]
  },
  {
   "cell_type": "code",
   "execution_count": 46,
   "metadata": {},
   "outputs": [
    {
     "name": "stdout",
     "output_type": "stream",
     "text": [
      "x                 \n",
      "⌠                 \n",
      "⎮           2.0   \n",
      "⎮     -0.5⋅t      \n",
      "⎮ √2⋅ℯ            \n",
      "⎮ ───────────── dt\n",
      "⎮      2⋅√π       \n",
      "⌡                 \n",
      "0                 \n"
     ]
    }
   ],
   "source": [
    "phi = sy.Integral(1/(sy.sqrt(2*sy.pi))*sy.exp(-t**2./2.), (t, 0, x))\n",
    "sy.pprint(phi, use_unicode=True)"
   ]
  },
  {
   "cell_type": "code",
   "execution_count": 47,
   "metadata": {},
   "outputs": [
    {
     "name": "stdout",
     "output_type": "stream",
     "text": [
      "       ∞                \n",
      "     ______             \n",
      "     ╲                  \n",
      "      ╲                 \n",
      "       ╲            k   \n",
      "        ╲     ⎛  2 ⎞    \n",
      "         ╲    ⎜-x  ⎟    \n",
      "√2⋅x⋅    ╱    ⎜────⎟    \n",
      "        ╱     ⎝ 2  ⎠    \n",
      "       ╱    ────────────\n",
      "      ╱     (2⋅k + 1)⋅k!\n",
      "     ╱                  \n",
      "     ‾‾‾‾‾‾             \n",
      "     k = 0              \n",
      "────────────────────────\n",
      "          2⋅√π          \n"
     ]
    }
   ],
   "source": [
    "func = (x/(sy.sqrt(2*sy.pi))) * sy.Sum((-x**2/2)**k * 1/((2*k+1)*sy.factorial(k)), (k, 0, sy.oo))\n",
    "sy.pprint(func)"
   ]
  },
  {
   "cell_type": "code",
   "execution_count": 49,
   "metadata": {},
   "outputs": [
    {
     "name": "stdout",
     "output_type": "stream",
     "text": [
      "  ∞                           \n",
      " ____                         \n",
      " ╲                            \n",
      "  ╲       k   2⋅k + 1  4⋅k + 3\n",
      "   ╲  (-1) ⋅25       ⋅x       \n",
      "   ╱  ────────────────────────\n",
      "  ╱     (4⋅k + 3)⋅(2⋅k + 1)!  \n",
      " ╱                            \n",
      " ‾‾‾‾                         \n",
      "k = 0                         \n"
     ]
    }
   ],
   "source": [
    "f = sy.Sum((-1)**k/sy.factorial(2*k+1)*25**(2*k+1)*x**(4*k+3)/(4*k+3), (k, 0, sy.oo))\n",
    "sy.pprint(f)"
   ]
  },
  {
   "cell_type": "code",
   "execution_count": null,
   "metadata": {},
   "outputs": [],
   "source": []
  }
 ],
 "metadata": {
  "kernelspec": {
   "display_name": "Python 3",
   "language": "python",
   "name": "python3"
  },
  "language_info": {
   "codemirror_mode": {
    "name": "ipython",
    "version": 3
   },
   "file_extension": ".py",
   "mimetype": "text/x-python",
   "name": "python",
   "nbconvert_exporter": "python",
   "pygments_lexer": "ipython3",
   "version": "3.10.7"
  },
  "orig_nbformat": 4,
  "vscode": {
   "interpreter": {
    "hash": "f9f85f796d01129d0dd105a088854619f454435301f6ffec2fea96ecbd9be4ac"
   }
  }
 },
 "nbformat": 4,
 "nbformat_minor": 2
}
