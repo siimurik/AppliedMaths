{
 "cells": [
  {
   "attachments": {},
   "cell_type": "markdown",
   "metadata": {},
   "source": [
    "$$P(T>t+\\tau | P>t) = \\frac{f(t+\\tau) \\int_{t+\\tau}^{\\infty} f(x) dx}{f(t) \\int_t^{\\infty} f(x) dx}$$"
   ]
  },
  {
   "cell_type": "code",
   "execution_count": 44,
   "metadata": {},
   "outputs": [],
   "source": [
    "import numpy as np\n",
    "from scipy import linalg"
   ]
  },
  {
   "cell_type": "code",
   "execution_count": 45,
   "metadata": {},
   "outputs": [],
   "source": [
    "P = np.array([[0.1, 0.2, 0.7],\n",
    "              [0.4, 0.5, 0.1],\n",
    "              [0.0, 0.1, 0.9]])\n"
   ]
  },
  {
   "cell_type": "code",
   "execution_count": 46,
   "metadata": {},
   "outputs": [],
   "source": [
    "if not np.allclose(P.sum(axis=1), np.ones(P.shape[0])):\n",
    "    print('Invalid probability transition matrix')\n"
   ]
  },
  {
   "cell_type": "code",
   "execution_count": 47,
   "metadata": {},
   "outputs": [
    {
     "name": "stdout",
     "output_type": "stream",
     "text": [
      "[0. +0.j 0.5+0.j 1. +0.j] \n",
      " [[ 0.77204865  0.06052275  0.57735027]\n",
      " [-0.63167617  0.96836405  0.57735027]\n",
      " [ 0.07018624 -0.24209101  0.57735027]]\n"
     ]
    }
   ],
   "source": [
    "eigenvalues, eigenvectors = linalg.eig(P)\n",
    "print(eigenvalues,\"\\n\",eigenvectors)\n"
   ]
  },
  {
   "cell_type": "code",
   "execution_count": 48,
   "metadata": {},
   "outputs": [
    {
     "name": "stdout",
     "output_type": "stream",
     "text": [
      "[[[0.57735027]]\n",
      "\n",
      " [[0.57735027]]\n",
      "\n",
      " [[0.57735027]]]\n"
     ]
    }
   ],
   "source": [
    "eigenvector = eigenvectors[:, np.isclose(eigenvalues, 1)]\n",
    "eigenvector = eigenvector[:, np.all(eigenvector >= 0)]\n",
    "print(eigenvector)"
   ]
  },
  {
   "cell_type": "code",
   "execution_count": 49,
   "metadata": {},
   "outputs": [
    {
     "name": "stdout",
     "output_type": "stream",
     "text": [
      "[[[0.57735027]]\n",
      "\n",
      " [[0.57735027]]\n",
      "\n",
      " [[0.57735027]]]\n"
     ]
    }
   ],
   "source": [
    "if eigenvector.size == 0:\n",
    "    eigenvector = np.ones(P.shape[0])\n",
    "    for _ in range(100):\n",
    "        eigenvector = np.dot(eigenvector, P)\n",
    "\n",
    "print(eigenvector)\n"
   ]
  },
  {
   "cell_type": "code",
   "execution_count": 50,
   "metadata": {},
   "outputs": [
    {
     "data": {
      "text/plain": [
       "1.7320508075688776"
      ]
     },
     "execution_count": 50,
     "metadata": {},
     "output_type": "execute_result"
    }
   ],
   "source": [
    "stationary_distribution = eigenvector / eigenvector.sum()\n",
    "eigenvector.sum()"
   ]
  },
  {
   "cell_type": "code",
   "execution_count": 51,
   "metadata": {},
   "outputs": [
    {
     "name": "stdout",
     "output_type": "stream",
     "text": [
      "Stationary distribution:\n",
      " [[[0.33333333]]\n",
      "\n",
      " [[0.33333333]]\n",
      "\n",
      " [[0.33333333]]]\n"
     ]
    }
   ],
   "source": [
    "print('Stationary distribution:\\n', stationary_distribution)\n"
   ]
  },
  {
   "cell_type": "code",
   "execution_count": 61,
   "metadata": {},
   "outputs": [
    {
     "name": "stdout",
     "output_type": "stream",
     "text": [
      "[-0.06948425  0.13896851  0.26384908]\n"
     ]
    }
   ],
   "source": [
    "# Define the matrix A\n",
    "A = np.array([[1, 2, 3], [4, 5, 6], [7, 8, 9], [10, 11, 12]])\n",
    "\n",
    "# Compute the QR decomposition of A\n",
    "Q, R = np.linalg.qr(A)\n",
    "\n",
    "# Solve the overdetermined system Ax = b\n",
    "b = np.array([1, 2, 3, 4])\n",
    "x = np.linalg.solve(R, Q.T @ b)\n",
    "\n",
    "print(x)  # prints the solution to the system\n"
   ]
  },
  {
   "cell_type": "code",
   "execution_count": 60,
   "metadata": {},
   "outputs": [
    {
     "name": "stdout",
     "output_type": "stream",
     "text": [
      "qr solution\n",
      "[-0.12692308  0.02051282  1.10384615]\n",
      "lstqs solution\n",
      "[-0.12692308  0.02051282  1.10384615]\n"
     ]
    },
    {
     "name": "stderr",
     "output_type": "stream",
     "text": [
      "/tmp/ipykernel_60978/3948617761.py:8: FutureWarning: `rcond` parameter will change to the default of machine precision times ``max(M, N)`` where M and N are the input matrix dimensions.\n",
      "To use the future default and silence this warning we advise to pass `rcond=None`, to keep using the old, explicitly pass `rcond=-1`.\n",
      "  x_lstsq = np.linalg.lstsq(A,b)[0] # computing the numpy solution\n"
     ]
    }
   ],
   "source": [
    "# Define the matrix A\n",
    "A = np.array([[0.7, 0.2, 0.1],\n",
    "              [0.4, 0.6, 0.0],\n",
    "              [0.0, 1.0, 0.0],\n",
    "              [1.0, 1.0, 1.0]])\n",
    "b = np.array([0., 0., 0., 1.])\n",
    "\n",
    "x_lstsq = np.linalg.lstsq(A,b)[0] # computing the numpy solution\n",
    "\n",
    "Q,R = np.linalg.qr(A) # qr decomposition of A\n",
    "Qb = np.dot(Q.T, b) # computing Q^T*b (project b onto the range of A)\n",
    "x_qr = np.linalg.solve(R,Qb) # solving R*x = Q^T*b\n",
    "\n",
    "# comparing the solutions\n",
    "print('qr solution')\n",
    "print(x_qr)\n",
    "print('lstqs solution')\n",
    "print(x_lstsq)"
   ]
  },
  {
   "cell_type": "code",
   "execution_count": 64,
   "metadata": {},
   "outputs": [
    {
     "name": "stdout",
     "output_type": "stream",
     "text": [
      "[0.236      0.23600001 0.236     ]\n"
     ]
    }
   ],
   "source": [
    "# Define the transition matrix\n",
    "P = np.array([[0.1, 0.2, 0.7],\n",
    "              [0.4, 0.5, 0.1],\n",
    "              [0.0, 0.1, 0.9]])\n",
    "\n",
    "# Define the initial state vector\n",
    "x0 = np.array([0.0, 0.9, 0.1])\n",
    "\n",
    "# Check that the transition matrix is a valid probability matrix\n",
    "if not np.allclose(P.sum(axis=1), np.ones(P.shape[0])):\n",
    "    raise ValueError(\"Transition matrix is not a valid probability matrix\")\n",
    "\n",
    "# Check that the initial state vector is a valid probability vector\n",
    "if not np.allclose(x0.sum(), 1) or np.any(x0 < 0):\n",
    "    raise ValueError(\"Initial state vector is not a valid probability vector\")\n",
    "\n",
    "# Set a tolerance for the convergence criterion\n",
    "tol = 1e-8\n",
    "\n",
    "# Set the initial state vector as the current state vector\n",
    "x = x0\n",
    "\n",
    "# Iterate until the state vectors converge to a fixed point\n",
    "while True:\n",
    "    # Compute the next state vector\n",
    "    x_next = P @ x\n",
    "\n",
    "    # Check if the next state vector is close enough to the current state vector\n",
    "    if np.allclose(x_next, x, rtol=tol, atol=tol):\n",
    "        break\n",
    "\n",
    "    # Update the current state vector\n",
    "    x = x_next\n",
    "\n",
    "# Print the stationary distribution\n",
    "print(x)\n"
   ]
  },
  {
   "cell_type": "code",
   "execution_count": 66,
   "metadata": {},
   "outputs": [
    {
     "ename": "ValueError",
     "evalue": "Input must be 1- or 2-d.",
     "output_type": "error",
     "traceback": [
      "\u001b[0;31m---------------------------------------------------------------------------\u001b[0m",
      "\u001b[0;31mValueError\u001b[0m                                Traceback (most recent call last)",
      "Cell \u001b[0;32mIn [66], line 26\u001b[0m\n\u001b[1;32m     24\u001b[0m \u001b[39m# Test the function with the given matrix\u001b[39;00m\n\u001b[1;32m     25\u001b[0m transition \u001b[39m=\u001b[39m np\u001b[39m.\u001b[39marray([[\u001b[39m0.7\u001b[39m, \u001b[39m0.2\u001b[39m, \u001b[39m0.1\u001b[39m], [\u001b[39m0.4\u001b[39m, \u001b[39m0.6\u001b[39m, \u001b[39m0\u001b[39m], [\u001b[39m0\u001b[39m, \u001b[39m0\u001b[39m, \u001b[39m1\u001b[39m]])\n\u001b[0;32m---> 26\u001b[0m \u001b[39mprint\u001b[39m(stationary(transition))\n",
      "Cell \u001b[0;32mIn [66], line 10\u001b[0m, in \u001b[0;36mstationary\u001b[0;34m(transition)\u001b[0m\n\u001b[1;32m      7\u001b[0m     \u001b[39mraise\u001b[39;00m \u001b[39mValueError\u001b[39;00m(\u001b[39m\"\u001b[39m\u001b[39mInvalid transition matrix\u001b[39m\u001b[39m\"\u001b[39m)\n\u001b[1;32m      9\u001b[0m \u001b[39m# Compute the matrix p\u001b[39;00m\n\u001b[0;32m---> 10\u001b[0m p \u001b[39m=\u001b[39m np\u001b[39m.\u001b[39;49mdiag(transition\u001b[39m.\u001b[39;49mshape[\u001b[39m0\u001b[39;49m]) \u001b[39m-\u001b[39m transition\n\u001b[1;32m     12\u001b[0m \u001b[39m# Concatenate the matrices A and b\u001b[39;00m\n\u001b[1;32m     13\u001b[0m A \u001b[39m=\u001b[39m np\u001b[39m.\u001b[39mvstack((p\u001b[39m.\u001b[39mT, np\u001b[39m.\u001b[39mones(transition\u001b[39m.\u001b[39mshape[\u001b[39m1\u001b[39m])))\n",
      "File \u001b[0;32m<__array_function__ internals>:180\u001b[0m, in \u001b[0;36mdiag\u001b[0;34m(*args, **kwargs)\u001b[0m\n",
      "File \u001b[0;32m/usr/lib64/python3.11/site-packages/numpy/lib/twodim_base.py:303\u001b[0m, in \u001b[0;36mdiag\u001b[0;34m(v, k)\u001b[0m\n\u001b[1;32m    301\u001b[0m     \u001b[39mreturn\u001b[39;00m diagonal(v, k)\n\u001b[1;32m    302\u001b[0m \u001b[39melse\u001b[39;00m:\n\u001b[0;32m--> 303\u001b[0m     \u001b[39mraise\u001b[39;00m \u001b[39mValueError\u001b[39;00m(\u001b[39m\"\u001b[39m\u001b[39mInput must be 1- or 2-d.\u001b[39m\u001b[39m\"\u001b[39m)\n",
      "\u001b[0;31mValueError\u001b[0m: Input must be 1- or 2-d."
     ]
    }
   ],
   "source": [
    "def stationary(transition):\n",
    "    # Check that the transition matrix is square, has non-negative entries,\n",
    "    # and that all entries are between 0 and 1\n",
    "    if not (isinstance(transition, np.ndarray) and\n",
    "            transition.shape[0] == transition.shape[1] and\n",
    "            np.all(transition >= 0) and np.all(transition <= 1)):\n",
    "        raise ValueError(\"Invalid transition matrix\")\n",
    "\n",
    "    # Compute the matrix p\n",
    "    p = np.diag(transition.shape[0]) - transition\n",
    "\n",
    "    # Concatenate the matrices A and b\n",
    "    A = np.vstack((p.T, np.ones(transition.shape[1])))\n",
    "    b = np.hstack((np.zeros(transition.shape[0]), 1))\n",
    "\n",
    "    # Solve the linear system Ax = b\n",
    "    res = np.linalg.solve(A, b)\n",
    "\n",
    "    # Set the names of the entries in res\n",
    "    res_names = [\"state.{}\".format(i+1) for i in range(transition.shape[0])]\n",
    "\n",
    "    return dict(zip(res_names, res))\n",
    "\n",
    "# Test the function with the given matrix\n",
    "transition = np.array([[0.7, 0.2, 0.1], [0.4, 0.6, 0], [0, 0, 1]])\n",
    "print(stationary(transition))\n"
   ]
  },
  {
   "cell_type": "code",
   "execution_count": null,
   "metadata": {},
   "outputs": [],
   "source": []
  }
 ],
 "metadata": {
  "kernelspec": {
   "display_name": "Python 3",
   "language": "python",
   "name": "python3"
  },
  "language_info": {
   "codemirror_mode": {
    "name": "ipython",
    "version": 3
   },
   "file_extension": ".py",
   "mimetype": "text/x-python",
   "name": "python",
   "nbconvert_exporter": "python",
   "pygments_lexer": "ipython3",
   "version": "3.11.1 (main, Dec  7 2022, 00:00:00) [GCC 12.2.1 20221121 (Red Hat 12.2.1-4)]"
  },
  "orig_nbformat": 4,
  "vscode": {
   "interpreter": {
    "hash": "ead1b95f633dc9c51826328e1846203f51a198c6fb5f2884a80417ba131d4e82"
   }
  }
 },
 "nbformat": 4,
 "nbformat_minor": 2
}
